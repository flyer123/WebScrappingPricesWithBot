{
 "cells": [
  {
   "cell_type": "code",
   "execution_count": 1,
   "id": "fa5dc740",
   "metadata": {},
   "outputs": [],
   "source": [
    "import pandas as pd\n",
    "import requests\n",
    "from bs4 import BeautifulSoup"
   ]
  },
  {
   "cell_type": "markdown",
   "id": "1dadbb51",
   "metadata": {},
   "source": [
    "First project - get some info from Japanese whisky site"
   ]
  },
  {
   "cell_type": "markdown",
   "id": "bff6b02e",
   "metadata": {},
   "source": [
    "get request from whysky shop page"
   ]
  },
  {
   "cell_type": "code",
   "execution_count": null,
   "id": "50003456",
   "metadata": {},
   "outputs": [],
   "source": [
    "productlinks = []\n",
    "for x in range(1,6):\n",
    "    baseurl = \"https://www.thewhiskyexchange.com\"\n",
    "    k = requests.get('https://www.thewhiskyexchange.com/c/35/japanese-whisky').text\n",
    "    soup = BeautifulSoup(k, 'html.parser')\n",
    "    productlist = soup.find_all('li', {'class' : 'product-grid__item'})  \n",
    "    for product in productlist:\n",
    "        link = product.find('a', {'class' : 'product-card'}).get('href')\n",
    "        productlinks.append(baseurl + link)"
   ]
  },
  {
   "cell_type": "markdown",
   "id": "64606c11",
   "metadata": {},
   "source": [
    "get information about a product from product page"
   ]
  },
  {
   "cell_type": "code",
   "execution_count": null,
   "id": "05373c59",
   "metadata": {},
   "outputs": [],
   "source": [
    "data = []\n",
    "for link in productlinks:\n",
    "    f = requests.get(link).text\n",
    "    hun = BeautifulSoup(f, 'html.parser')\n",
    "    try:\n",
    "        price = hun.find('p', {'class' : 'product-ation__price'}).text.replace('\\n', '')\n",
    "    except:\n",
    "        price = None\n",
    "    try:\n",
    "        about = hun.find('div', {'class' : 'product-main__description'}).text.replace('\\n', '')\n",
    "    except:\n",
    "        about = None\n",
    "    try:\n",
    "        rating = hun.find('div', {'class' : 'review-overview'}).text.replace('\\n', '')\n",
    "    except:\n",
    "        rating = None\n",
    "    try:\n",
    "        name = hun.find('h1', {'class' : 'product-main__name'}).text.replace('\\n', '')\n",
    "    except:\n",
    "        name = None\n",
    "    whisky = {'name' : name, 'price' : price, 'rating' : rating, 'about' : about}\n",
    "    data.append(whisky)"
   ]
  },
  {
   "cell_type": "code",
   "execution_count": null,
   "id": "96e343e7",
   "metadata": {},
   "outputs": [],
   "source": [
    "data"
   ]
  },
  {
   "cell_type": "code",
   "execution_count": null,
   "id": "fd5484ba",
   "metadata": {},
   "outputs": [],
   "source": [
    "df = pd.DataFrame.from_dict(data)"
   ]
  },
  {
   "cell_type": "code",
   "execution_count": null,
   "id": "0d122917",
   "metadata": {},
   "outputs": [],
   "source": [
    "df"
   ]
  },
  {
   "cell_type": "markdown",
   "id": "b93f0007",
   "metadata": {},
   "source": [
    "Here we try to parse Silpo page"
   ]
  },
  {
   "cell_type": "markdown",
   "id": "343d831f",
   "metadata": {},
   "source": [
    "import necessary libraries of selenium webdriver to extract javascript rendered website"
   ]
  },
  {
   "cell_type": "code",
   "execution_count": 107,
   "id": "8bb96d14",
   "metadata": {},
   "outputs": [],
   "source": [
    "import time\n",
    "from selenium import webdriver\n",
    "from selenium.webdriver import Chrome\n",
    "from selenium.webdriver.chrome.service import Service\n",
    "from selenium.webdriver.common.by import By\n",
    "from webdriver_manager.chrome import ChromeDriverManager\n",
    "from selenium.webdriver.common.keys import Keys"
   ]
  },
  {
   "cell_type": "code",
   "execution_count": 108,
   "id": "07e7bc7b",
   "metadata": {},
   "outputs": [
    {
     "name": "stderr",
     "output_type": "stream",
     "text": [
      "C:\\Users\\Yura\\AppData\\Local\\Temp\\ipykernel_8368\\2755664486.py:3: DeprecationWarning: headless property is deprecated, instead use add_argument('--headless') or add_argument('--headless=new')\n",
      "  options.headless = True # it's more scalable to work in headless mode\n"
     ]
    }
   ],
   "source": [
    "# start by defining the options\n",
    "options = webdriver.ChromeOptions()\n",
    "options.headless = True # it's more scalable to work in headless mode\n",
    "# normallly, selenium waits for all resources to download\n",
    "# we don't need it as the page also populated with the running javascript code.\n",
    "options.page_load_strategy = 'none'\n",
    "# this returns the path webderiver downloaded\n",
    "chrome_path = ChromeDriverManager().install()\n",
    "chrome_service = Service(chrome_path)\n",
    "# pass the driver options and service object to initialize the web driver\n",
    "driver = Chrome(options=options, service=chrome_service)\n",
    "driver.implicitly_wait(10)"
   ]
  },
  {
   "cell_type": "code",
   "execution_count": 109,
   "id": "136a3400",
   "metadata": {},
   "outputs": [],
   "source": [
    "url = \"https://shop.silpo.ua/category/ovocheva-konservatsiia-138\"\n",
    "driver.get(url)\n",
    "time.sleep(10)"
   ]
  },
  {
   "cell_type": "markdown",
   "id": "fdb28414",
   "metadata": {},
   "source": [
    "pageSource = driver.page_source"
   ]
  },
  {
   "cell_type": "markdown",
   "id": "952ba1cb",
   "metadata": {},
   "source": [
    "pageSource"
   ]
  },
  {
   "cell_type": "markdown",
   "id": "45fa97b7",
   "metadata": {},
   "source": [
    "element = WebDriverWait(driver, 40).until(\n",
    "    EC.presence_of_element_located((By.XPATH, \"/html/body/div[1]/div/div/div/div[1]/div[1]/div[2]/div[2]/button\"))\n",
    ")"
   ]
  },
  {
   "cell_type": "markdown",
   "id": "9c0a5130",
   "metadata": {},
   "source": [
    "element"
   ]
  },
  {
   "cell_type": "markdown",
   "id": "640aef7d",
   "metadata": {},
   "source": [
    "btn=driver.find_element(By.XPATH, '/html/body/div[1]/div/div/div/div[1]/div[1]/div[2]/div[2]/button');\n"
   ]
  },
  {
   "cell_type": "markdown",
   "id": "3c0de3c1",
   "metadata": {},
   "source": [
    "All markdowned above is for testing"
   ]
  },
  {
   "cell_type": "markdown",
   "id": "63a38e4e",
   "metadata": {},
   "source": [
    "get all products"
   ]
  },
  {
   "cell_type": "code",
   "execution_count": 111,
   "id": "236ae053",
   "metadata": {},
   "outputs": [],
   "source": [
    "#content = driver.find_element(By.CSS_SELECTOR, \"div[class*='product-list__wrapper']\")\n",
    "content = driver.find_element(By.CSS_SELECTOR, \"ul[class='product-list experiment with-filter']\")"
   ]
  },
  {
   "cell_type": "code",
   "execution_count": 112,
   "id": "15b71295",
   "metadata": {},
   "outputs": [],
   "source": [
    "products = content.find_elements(By.CSS_SELECTOR, \"div[class='lazyload-wrapper ']\")"
   ]
  },
  {
   "cell_type": "code",
   "execution_count": 113,
   "id": "e6f1019e",
   "metadata": {},
   "outputs": [
    {
     "data": {
      "text/plain": [
       "[<selenium.webdriver.remote.webelement.WebElement (session=\"02a6cfdae03942855ae968facc60ee04\", element=\"FCD71007A2C0EF845F0BD997A9F3BD5A_element_64\")>,\n",
       " <selenium.webdriver.remote.webelement.WebElement (session=\"02a6cfdae03942855ae968facc60ee04\", element=\"FCD71007A2C0EF845F0BD997A9F3BD5A_element_65\")>,\n",
       " <selenium.webdriver.remote.webelement.WebElement (session=\"02a6cfdae03942855ae968facc60ee04\", element=\"FCD71007A2C0EF845F0BD997A9F3BD5A_element_66\")>,\n",
       " <selenium.webdriver.remote.webelement.WebElement (session=\"02a6cfdae03942855ae968facc60ee04\", element=\"FCD71007A2C0EF845F0BD997A9F3BD5A_element_67\")>,\n",
       " <selenium.webdriver.remote.webelement.WebElement (session=\"02a6cfdae03942855ae968facc60ee04\", element=\"FCD71007A2C0EF845F0BD997A9F3BD5A_element_68\")>,\n",
       " <selenium.webdriver.remote.webelement.WebElement (session=\"02a6cfdae03942855ae968facc60ee04\", element=\"FCD71007A2C0EF845F0BD997A9F3BD5A_element_69\")>,\n",
       " <selenium.webdriver.remote.webelement.WebElement (session=\"02a6cfdae03942855ae968facc60ee04\", element=\"FCD71007A2C0EF845F0BD997A9F3BD5A_element_70\")>,\n",
       " <selenium.webdriver.remote.webelement.WebElement (session=\"02a6cfdae03942855ae968facc60ee04\", element=\"FCD71007A2C0EF845F0BD997A9F3BD5A_element_71\")>,\n",
       " <selenium.webdriver.remote.webelement.WebElement (session=\"02a6cfdae03942855ae968facc60ee04\", element=\"FCD71007A2C0EF845F0BD997A9F3BD5A_element_72\")>,\n",
       " <selenium.webdriver.remote.webelement.WebElement (session=\"02a6cfdae03942855ae968facc60ee04\", element=\"FCD71007A2C0EF845F0BD997A9F3BD5A_element_73\")>,\n",
       " <selenium.webdriver.remote.webelement.WebElement (session=\"02a6cfdae03942855ae968facc60ee04\", element=\"FCD71007A2C0EF845F0BD997A9F3BD5A_element_74\")>,\n",
       " <selenium.webdriver.remote.webelement.WebElement (session=\"02a6cfdae03942855ae968facc60ee04\", element=\"FCD71007A2C0EF845F0BD997A9F3BD5A_element_75\")>,\n",
       " <selenium.webdriver.remote.webelement.WebElement (session=\"02a6cfdae03942855ae968facc60ee04\", element=\"FCD71007A2C0EF845F0BD997A9F3BD5A_element_76\")>,\n",
       " <selenium.webdriver.remote.webelement.WebElement (session=\"02a6cfdae03942855ae968facc60ee04\", element=\"FCD71007A2C0EF845F0BD997A9F3BD5A_element_77\")>,\n",
       " <selenium.webdriver.remote.webelement.WebElement (session=\"02a6cfdae03942855ae968facc60ee04\", element=\"FCD71007A2C0EF845F0BD997A9F3BD5A_element_78\")>,\n",
       " <selenium.webdriver.remote.webelement.WebElement (session=\"02a6cfdae03942855ae968facc60ee04\", element=\"FCD71007A2C0EF845F0BD997A9F3BD5A_element_79\")>,\n",
       " <selenium.webdriver.remote.webelement.WebElement (session=\"02a6cfdae03942855ae968facc60ee04\", element=\"FCD71007A2C0EF845F0BD997A9F3BD5A_element_80\")>,\n",
       " <selenium.webdriver.remote.webelement.WebElement (session=\"02a6cfdae03942855ae968facc60ee04\", element=\"FCD71007A2C0EF845F0BD997A9F3BD5A_element_81\")>,\n",
       " <selenium.webdriver.remote.webelement.WebElement (session=\"02a6cfdae03942855ae968facc60ee04\", element=\"FCD71007A2C0EF845F0BD997A9F3BD5A_element_82\")>,\n",
       " <selenium.webdriver.remote.webelement.WebElement (session=\"02a6cfdae03942855ae968facc60ee04\", element=\"FCD71007A2C0EF845F0BD997A9F3BD5A_element_83\")>,\n",
       " <selenium.webdriver.remote.webelement.WebElement (session=\"02a6cfdae03942855ae968facc60ee04\", element=\"FCD71007A2C0EF845F0BD997A9F3BD5A_element_84\")>,\n",
       " <selenium.webdriver.remote.webelement.WebElement (session=\"02a6cfdae03942855ae968facc60ee04\", element=\"FCD71007A2C0EF845F0BD997A9F3BD5A_element_85\")>,\n",
       " <selenium.webdriver.remote.webelement.WebElement (session=\"02a6cfdae03942855ae968facc60ee04\", element=\"FCD71007A2C0EF845F0BD997A9F3BD5A_element_86\")>,\n",
       " <selenium.webdriver.remote.webelement.WebElement (session=\"02a6cfdae03942855ae968facc60ee04\", element=\"FCD71007A2C0EF845F0BD997A9F3BD5A_element_87\")>,\n",
       " <selenium.webdriver.remote.webelement.WebElement (session=\"02a6cfdae03942855ae968facc60ee04\", element=\"FCD71007A2C0EF845F0BD997A9F3BD5A_element_88\")>,\n",
       " <selenium.webdriver.remote.webelement.WebElement (session=\"02a6cfdae03942855ae968facc60ee04\", element=\"FCD71007A2C0EF845F0BD997A9F3BD5A_element_89\")>,\n",
       " <selenium.webdriver.remote.webelement.WebElement (session=\"02a6cfdae03942855ae968facc60ee04\", element=\"FCD71007A2C0EF845F0BD997A9F3BD5A_element_90\")>,\n",
       " <selenium.webdriver.remote.webelement.WebElement (session=\"02a6cfdae03942855ae968facc60ee04\", element=\"FCD71007A2C0EF845F0BD997A9F3BD5A_element_91\")>,\n",
       " <selenium.webdriver.remote.webelement.WebElement (session=\"02a6cfdae03942855ae968facc60ee04\", element=\"FCD71007A2C0EF845F0BD997A9F3BD5A_element_92\")>,\n",
       " <selenium.webdriver.remote.webelement.WebElement (session=\"02a6cfdae03942855ae968facc60ee04\", element=\"FCD71007A2C0EF845F0BD997A9F3BD5A_element_93\")>]"
      ]
     },
     "execution_count": 113,
     "metadata": {},
     "output_type": "execute_result"
    }
   ],
   "source": [
    "products"
   ]
  },
  {
   "cell_type": "markdown",
   "id": "745720e4",
   "metadata": {},
   "source": [
    "For to do - extract image, product url, pages or number of pages, extract all elements in page"
   ]
  },
  {
   "cell_type": "markdown",
   "id": "ecfcf932",
   "metadata": {},
   "source": [
    "Function to extract name, price and if exists - old price"
   ]
  },
  {
   "cell_type": "code",
   "execution_count": null,
   "id": "6a66c515",
   "metadata": {},
   "outputs": [],
   "source": [
    "def extract_data(element):\n",
    "    temp_product = element.find_element(By.CSS_SELECTOR, \"li[class='product-list-item-wrapper']\")\n",
    "    temp_product = temp_product.find_element(By.CSS_SELECTOR, \"div[class='new-product-list-item']\")\n",
    "    product = temp_product.find_element(By.CSS_SELECTOR, \"a[class='product-list-item__content']\")\n",
    "    try:\n",
    "        name = element.find_element(By.CSS_SELECTOR, \"div[class*='product-title']\")\n",
    "        name = product.text\n",
    "    except:\n",
    "        name = ''\n",
    "    try:\n",
    "        price = element.find_element(By.CSS_SELECTOR, \"div[class*='current-price']\")\n",
    "        price = price.text\n",
    "    except:\n",
    "        price = ''\n",
    "    try:\n",
    "        price = element.find_element(By.CSS_SELECTOR, \"div[class*='old-price']\")\n",
    "        old_price = price.text\n",
    "    except:\n",
    "        old_price = ''\n",
    "    return {\n",
    "        'name' : name,\n",
    "        'price' : price,\n",
    "        'old_price' : old_price\n",
    "        \n",
    "    }\n",
    "    "
   ]
  },
  {
   "cell_type": "markdown",
   "id": "8736a5ec",
   "metadata": {},
   "source": [
    "Get list of product with prices"
   ]
  },
  {
   "cell_type": "code",
   "execution_count": null,
   "id": "931bfd1a",
   "metadata": {},
   "outputs": [],
   "source": [
    "data = []\n",
    "for product in products:\n",
    "    extracted_data = extract_data(product)\n",
    "    data.append(extracted_data)"
   ]
  },
  {
   "cell_type": "code",
   "execution_count": null,
   "id": "ba0451c9",
   "metadata": {},
   "outputs": [],
   "source": [
    "data"
   ]
  },
  {
   "cell_type": "markdown",
   "id": "157d6b86",
   "metadata": {},
   "source": [
    "For to do - extract image, product url, pages or number of pages, extract all elements in page"
   ]
  },
  {
   "cell_type": "markdown",
   "id": "211246a3",
   "metadata": {},
   "source": [
    "Current problem - only 4 products from 32 are extracted"
   ]
  },
  {
   "cell_type": "markdown",
   "id": "5a4837b4",
   "metadata": {},
   "source": [
    "this cell and the following ones are not important just testing"
   ]
  },
  {
   "cell_type": "code",
   "execution_count": 114,
   "id": "73719c67",
   "metadata": {},
   "outputs": [],
   "source": [
    "p = products[4]"
   ]
  },
  {
   "cell_type": "code",
   "execution_count": 115,
   "id": "90603218",
   "metadata": {},
   "outputs": [
    {
     "data": {
      "text/plain": [
       "<selenium.webdriver.remote.webelement.WebElement (session=\"02a6cfdae03942855ae968facc60ee04\", element=\"FCD71007A2C0EF845F0BD997A9F3BD5A_element_68\")>"
      ]
     },
     "execution_count": 115,
     "metadata": {},
     "output_type": "execute_result"
    }
   ],
   "source": [
    "p"
   ]
  },
  {
   "cell_type": "code",
   "execution_count": 116,
   "id": "2c8691d7",
   "metadata": {},
   "outputs": [],
   "source": [
    "product = p.find_element(By.TAG_NAME, \"div\")"
   ]
  },
  {
   "cell_type": "code",
   "execution_count": 117,
   "id": "436df8ae",
   "metadata": {},
   "outputs": [
    {
     "data": {
      "text/plain": [
       "<selenium.webdriver.remote.webelement.WebElement (session=\"02a6cfdae03942855ae968facc60ee04\", element=\"FCD71007A2C0EF845F0BD997A9F3BD5A_element_94\")>"
      ]
     },
     "execution_count": 117,
     "metadata": {},
     "output_type": "execute_result"
    }
   ],
   "source": [
    "product"
   ]
  },
  {
   "cell_type": "code",
   "execution_count": 118,
   "id": "6a1d0c77",
   "metadata": {},
   "outputs": [
    {
     "data": {
      "text/plain": [
       "'div'"
      ]
     },
     "execution_count": 118,
     "metadata": {},
     "output_type": "execute_result"
    }
   ],
   "source": [
    "product.tag_name"
   ]
  },
  {
   "cell_type": "code",
   "execution_count": 119,
   "id": "4ce50066",
   "metadata": {},
   "outputs": [
    {
     "data": {
      "text/plain": [
       "''"
      ]
     },
     "execution_count": 119,
     "metadata": {},
     "output_type": "execute_result"
    }
   ],
   "source": [
    "product.text"
   ]
  },
  {
   "cell_type": "code",
   "execution_count": 93,
   "id": "7178ab19",
   "metadata": {},
   "outputs": [
    {
     "data": {
      "text/plain": [
       "''"
      ]
     },
     "execution_count": 93,
     "metadata": {},
     "output_type": "execute_result"
    }
   ],
   "source": [
    "product.get_attribute('innerHTML')"
   ]
  },
  {
   "cell_type": "markdown",
   "id": "ec8dfaf8",
   "metadata": {},
   "source": [
    "https://stackoverflow.com/questions/70411736/web-scraping-gives-only-first-4-elements-on-a-page"
   ]
  },
  {
   "cell_type": "markdown",
   "id": "f257fb6b",
   "metadata": {},
   "source": [
    "https://www.kaggle.com/code/gauravrai2000/data-scrapping-from-a-lazy-loading-website"
   ]
  },
  {
   "cell_type": "code",
   "execution_count": null,
   "id": "d6150e2d",
   "metadata": {},
   "outputs": [],
   "source": []
  }
 ],
 "metadata": {
  "kernelspec": {
   "display_name": "Python 3 (ipykernel)",
   "language": "python",
   "name": "python3"
  },
  "language_info": {
   "codemirror_mode": {
    "name": "ipython",
    "version": 3
   },
   "file_extension": ".py",
   "mimetype": "text/x-python",
   "name": "python",
   "nbconvert_exporter": "python",
   "pygments_lexer": "ipython3",
   "version": "3.10.2"
  }
 },
 "nbformat": 4,
 "nbformat_minor": 5
}
